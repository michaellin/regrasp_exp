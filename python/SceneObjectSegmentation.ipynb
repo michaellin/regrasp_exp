{
 "cells": [
  {
   "cell_type": "markdown",
   "metadata": {},
   "source": [
    "## Object segmentation based on KMeans clustering\n",
    "\n",
    "Brief: TODO\n",
    "\n",
    "Author: Michael A. Lin"
   ]
  },
  {
   "cell_type": "code",
   "execution_count": 1,
   "metadata": {},
   "outputs": [],
   "source": [
    "import numpy as np\n",
    "import open3d as o3d\n",
    "from sklearn.cluster import KMeans"
   ]
  },
  {
   "cell_type": "code",
   "execution_count": 66,
   "metadata": {},
   "outputs": [],
   "source": [
    "pcd = o3d.io.read_point_cloud(\"../data/PointClouds/Blue Bowl/Whole_Scene_Camera2.pcd\")"
   ]
  },
  {
   "cell_type": "code",
   "execution_count": 3,
   "metadata": {},
   "outputs": [
    {
     "name": "stdout",
     "output_type": "stream",
     "text": [
      "(114981,)\n"
     ]
    },
    {
     "data": {
      "text/plain": [
       "True"
      ]
     },
     "execution_count": 3,
     "metadata": {},
     "output_type": "execute_result"
    }
   ],
   "source": [
    "# get the point cloud colors as numpy array\n",
    "pcd_colors = np.asarray(pcd.colors)\n",
    "# track point IDs\n",
    "pcd_ids = np.arange(pcd_colors.shape[0])\n",
    "# color wanted is (0.025, 0.16, 0.75) which is the tiel bowl so use color distance. \n",
    "# WARNIG this is not illumination or shadow robust.\n",
    "pcd_color_dist = np.linalg.norm(np.subtract(pcd_colors, np.array([0.025, 0.16, 0.75])), axis=1)\n",
    "pcd_color_dist_sorted = np.argsort(pcd_color_dist)\n",
    "# get mask of colors that are close enough\n",
    "pcd_color_near_mask = pcd_color_dist < 0.38\n",
    "# get the id of the masked points\n",
    "pcd_color_near_id = np.argwhere(pcd_color_near_mask)\n",
    "print(pcd_color_near_mask.shape)\n",
    "\n",
    "# filter the original point cloud to get points near color chosen\n",
    "pcd_points_filtered = np.asarray(pcd.points)[pcd_color_near_mask]\n",
    "pcd_color_filtered = np.asarray(pcd.colors)[pcd_color_near_mask]\n",
    "\n",
    "# create new point cloud\n",
    "new_pcd = o3d.geometry.PointCloud()\n",
    "new_pcd.points = o3d.utility.Vector3dVector(pcd_points_filtered)\n",
    "new_pcd.colors = o3d.utility.Vector3dVector(pcd_color_filtered)\n",
    "o3d.io.write_point_cloud(\"../data/segmented_bowl.pcd\", new_pcd)"
   ]
  },
  {
   "cell_type": "code",
   "execution_count": 87,
   "metadata": {},
   "outputs": [],
   "source": [
    "def mask_pcd(pcd, mask):\n",
    "    \"\"\"\n",
    "    Helper function that takes in a points cloud and filters points \n",
    "    based on a mask\n",
    "    Input:  \n",
    "            pcd: open3d PointCloud object\n",
    "            mask: boolean array size of number of points\n",
    "    Output:\n",
    "            new_pcd: open3d PointCloud object filtered\n",
    "    \"\"\"\n",
    "    pcd_pts_arr = np.asarray(pcd.points)\n",
    "    pcd_colors_arr = np.asarray(pcd.colors)\n",
    "    new_pcd.colors = o3d.utility.Vector3dVector(pcd_colors_arr[mask])\n",
    "    new_pcd.points = o3d.utility.Vector3dVector(pcd_pts_arr[mask])\n",
    "    return new_pcd"
   ]
  },
  {
   "cell_type": "code",
   "execution_count": 88,
   "metadata": {},
   "outputs": [],
   "source": [
    "def filter_pcd_spatial(pcd, z_min, z_max):\n",
    "    \"\"\"\n",
    "    Simple function that takes in a points cloud and filters points \n",
    "    that are within a specified distance from the camera in the z axis (optical axis)\n",
    "    Input:  \n",
    "            pcd: open3d PointCloud object\n",
    "            z_min, z_max: range of the distance wanted\n",
    "    Output:\n",
    "            new_pcd: open3d PointCloud object filtered\n",
    "    \"\"\"\n",
    "    pcd_pts_arr = np.asarray(pcd.points)\n",
    "    pcd_colors_arr = np.asarray(pcd.colors)\n",
    "    z_dist_mask = np.bitwise_and(pcd_pts_arr[:,2] > z_min, pcd_pts_arr[:,2] < z_max)\n",
    "    return mask_pcd(pcd, z_dist_mask)"
   ]
  },
  {
   "cell_type": "code",
   "execution_count": 89,
   "metadata": {},
   "outputs": [],
   "source": [
    "o3d.visualization.draw_geometries([filter_pcd_spatial(pcd, 0.0, 1.0)])"
   ]
  },
  {
   "cell_type": "code",
   "execution_count": 90,
   "metadata": {},
   "outputs": [],
   "source": [
    "def kmeans_color(pcd, n_clusters):\n",
    "    \"\"\"\n",
    "    Function takes in a points cloud and finds the kmeans of these points based on color\n",
    "    and position. Positions are multiplied by a factor to penalize physical distance more.\n",
    "    Input:  \n",
    "            pcd: open3d PointCloud object\n",
    "            n_clusters: how many clusters to get from kmeans\n",
    "    Output:\n",
    "            cluster centers: n centroids returned by kmeans\n",
    "            labels: label of each data point by kmeans\n",
    "    \"\"\"\n",
    "    pcd_pts = np.asarray(pcd.points)\n",
    "    pcd_colors = np.asarray(pcd.colors)\n",
    "    kmeans = KMeans(n_clusters=n_clusters)\n",
    "    kmeans.fit(np.hstack([pcd_pts*5.0,pcd_colors]))\n",
    "    return kmeans.cluster_centers_, kmeans.labels_"
   ]
  },
  {
   "cell_type": "code",
   "execution_count": 92,
   "metadata": {},
   "outputs": [],
   "source": [
    "# Perform z distance clipping and k means clustering\n",
    "\n",
    "n_cluster = 12\n",
    "filtered_pcd = filter_pcd_spatial(pcd, 0.0, 1.0)\n",
    "centers, labels = kmeans_color(filtered_pcd, n_cluster)\n",
    "color = np.random.rand(n_cluster,3)\n",
    "kmeans_pcd = o3d.geometry.PointCloud()\n",
    "kmeans_pcd.colors = o3d.utility.Vector3dVector(color[labels])\n",
    "kmeans_pcd.points = filtered_pcd.points\n"
   ]
  },
  {
   "cell_type": "code",
   "execution_count": 93,
   "metadata": {},
   "outputs": [],
   "source": [
    "# visualize k means cluster colors\n",
    "o3d.visualization.draw_geometries([kmeans_pcd])"
   ]
  },
  {
   "cell_type": "code",
   "execution_count": 94,
   "metadata": {},
   "outputs": [],
   "source": [
    "# find the cluster closest to the color we want (id the bowl)\n",
    "color_centers = centers[:,3:]\n",
    "pcd_color_dist = np.linalg.norm(np.subtract(color_centers, np.array([0.025, 0.16, 0.75])), axis=1)\n",
    "# sort distances in ascending order\n",
    "pcd_color_dist_sorted = np.argsort(pcd_color_dist)\n",
    "closest_cluster = pcd_color_dist_sorted[0]\n",
    "in_closest_cluster = (labels == closest_cluster)\n",
    "final_pcd = mask_pcd(filtered_pcd, in_closest_cluster)"
   ]
  },
  {
   "cell_type": "code",
   "execution_count": 95,
   "metadata": {},
   "outputs": [],
   "source": [
    "# visualize single cluster\n",
    "o3d.visualization.draw_geometries([final_pcd])"
   ]
  },
  {
   "cell_type": "code",
   "execution_count": null,
   "metadata": {},
   "outputs": [],
   "source": []
  }
 ],
 "metadata": {
  "kernelspec": {
   "display_name": "Python 3",
   "language": "python",
   "name": "python3"
  },
  "language_info": {
   "codemirror_mode": {
    "name": "ipython",
    "version": 3
   },
   "file_extension": ".py",
   "mimetype": "text/x-python",
   "name": "python",
   "nbconvert_exporter": "python",
   "pygments_lexer": "ipython3",
   "version": "3.6.8"
  }
 },
 "nbformat": 4,
 "nbformat_minor": 2
}

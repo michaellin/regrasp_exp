{
 "cells": [
  {
   "cell_type": "code",
   "execution_count": 9,
   "metadata": {},
   "outputs": [],
   "source": [
    "import numpy as np\n",
    "import open3d as o3d"
   ]
  },
  {
   "cell_type": "code",
   "execution_count": 3,
   "metadata": {},
   "outputs": [],
   "source": [
    "pcd = o3d.io.read_point_cloud(\"../data/PointCloud2.pcd\")"
   ]
  },
  {
   "cell_type": "code",
   "execution_count": 4,
   "metadata": {},
   "outputs": [
    {
     "name": "stdout",
     "output_type": "stream",
     "text": [
      "[False False False ... False False False]\n"
     ]
    },
    {
     "data": {
      "text/plain": [
       "True"
      ]
     },
     "execution_count": 4,
     "metadata": {},
     "output_type": "execute_result"
    }
   ],
   "source": [
    "# get the point cloud colors as numpy array\n",
    "pcd_colors = np.asarray(pcd.colors)\n",
    "# color wanted is (0.025, 0.16, 0.75) which is the tiel bowl so use color distance. \n",
    "# WARNIG this is not illumination or shadow robust.\n",
    "pcd_color_dist = np.linalg.norm(np.subtract(pcd_colors, np.array([0.025, 0.16, 0.75])), axis=1)\n",
    "pcd_color_dist_sorted = np.argsort(pcd_color_dist)\n",
    "# get index of colors that are close enough\n",
    "pcd_color_dist_filt = pcd_color_dist < 0.38\n",
    "print(pcd_color_dist_filt)\n",
    "\n",
    "# filter the original point cloud\n",
    "pcd_points_filtered = np.asarray(pcd.points)[pcd_color_dist_filt]\n",
    "pcd_color_filtered = np.asarray(pcd.colors)[pcd_color_dist_filt]\n",
    "\n",
    "# create new point cloud\n",
    "new_pcd = o3d.geometry.PointCloud()\n",
    "new_pcd.points = o3d.utility.Vector3dVector(pcd_points_filtered)\n",
    "new_pcd.colors = o3d.utility.Vector3dVector(pcd_color_filtered)\n",
    "o3d.io.write_point_cloud(\"../data/segmented_bowl.pcd\", new_pcd)"
   ]
  },
  {
   "cell_type": "code",
   "execution_count": 10,
   "metadata": {},
   "outputs": [],
   "source": [
    "o3d.visualization.draw_geometries([new_pcd])"
   ]
  },
  {
   "cell_type": "code",
   "execution_count": null,
   "metadata": {},
   "outputs": [],
   "source": []
  }
 ],
 "metadata": {
  "kernelspec": {
   "display_name": "Python 3",
   "language": "python",
   "name": "python3"
  },
  "language_info": {
   "codemirror_mode": {
    "name": "ipython",
    "version": 3
   },
   "file_extension": ".py",
   "mimetype": "text/x-python",
   "name": "python",
   "nbconvert_exporter": "python",
   "pygments_lexer": "ipython3",
   "version": "3.6.8"
  }
 },
 "nbformat": 4,
 "nbformat_minor": 2
}
